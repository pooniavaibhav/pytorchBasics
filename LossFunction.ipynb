{
  "nbformat": 4,
  "nbformat_minor": 0,
  "metadata": {
    "colab": {
      "name": "LossFunction.ipynb",
      "provenance": [],
      "authorship_tag": "ABX9TyNoYIEvipbpaTII6UJY5yS7",
      "include_colab_link": true
    },
    "kernelspec": {
      "name": "python3",
      "display_name": "Python 3"
    },
    "language_info": {
      "name": "python"
    }
  },
  "cells": [
    {
      "cell_type": "markdown",
      "metadata": {
        "id": "view-in-github",
        "colab_type": "text"
      },
      "source": [
        "<a href=\"https://colab.research.google.com/github/pooniavaibhav/pytorchBasics/blob/main/LossFunction.ipynb\" target=\"_parent\"><img src=\"https://colab.research.google.com/assets/colab-badge.svg\" alt=\"Open In Colab\"/></a>"
      ]
    },
    {
      "cell_type": "code",
      "metadata": {
        "id": "E5bEjZ1VDdZc"
      },
      "source": [
        "import torch\n",
        "import torch.nn as nn"
      ],
      "execution_count": 1,
      "outputs": []
    },
    {
      "cell_type": "code",
      "metadata": {
        "colab": {
          "base_uri": "https://localhost:8080/"
        },
        "id": "XzbesrzIOlxS",
        "outputId": "18219b2d-9da5-44ce-9aaa-ddd529e87310"
      },
      "source": [
        "prediction = torch.randn(4,5)\n",
        "prediction"
      ],
      "execution_count": 14,
      "outputs": [
        {
          "output_type": "execute_result",
          "data": {
            "text/plain": [
              "tensor([[-0.2367, -0.6152, -0.3646, -0.6977, -0.0151],\n",
              "        [-1.0483,  0.2404, -1.2091, -0.7166, -0.7087],\n",
              "        [ 0.9633, -0.2371, -0.5917, -1.3006,  0.8123],\n",
              "        [ 0.5528,  0.3475,  1.7542, -0.3434,  0.9284]])"
            ]
          },
          "metadata": {
            "tags": []
          },
          "execution_count": 14
        }
      ]
    },
    {
      "cell_type": "code",
      "metadata": {
        "id": "vwThhkc7Qu86"
      },
      "source": [
        "label = torch.randn(4,5)"
      ],
      "execution_count": 3,
      "outputs": []
    },
    {
      "cell_type": "markdown",
      "metadata": {
        "id": "BaadJP8RP4_p"
      },
      "source": [
        "### MSE LOSS"
      ]
    },
    {
      "cell_type": "code",
      "metadata": {
        "id": "G3w7D6_oP4Xp"
      },
      "source": [
        "mse = nn.MSELoss(reduction='mean')"
      ],
      "execution_count": 8,
      "outputs": []
    },
    {
      "cell_type": "code",
      "metadata": {
        "id": "tpiz8RS8O88f"
      },
      "source": [
        "loss = mse(prediction, label)"
      ],
      "execution_count": 9,
      "outputs": []
    },
    {
      "cell_type": "code",
      "metadata": {
        "colab": {
          "base_uri": "https://localhost:8080/"
        },
        "id": "Qa4TDciXRAS-",
        "outputId": "9bc52511-8e51-4912-f06a-cb2248e6d8db"
      },
      "source": [
        "loss"
      ],
      "execution_count": 10,
      "outputs": [
        {
          "output_type": "execute_result",
          "data": {
            "text/plain": [
              "tensor(1.3160)"
            ]
          },
          "metadata": {
            "tags": []
          },
          "execution_count": 10
        }
      ]
    },
    {
      "cell_type": "code",
      "metadata": {
        "colab": {
          "base_uri": "https://localhost:8080/"
        },
        "id": "YkRYdXB0RE9M",
        "outputId": "19dc3db5-152a-4f98-f7c4-1167b7472f9a"
      },
      "source": [
        "((prediction-label)**2).mean()"
      ],
      "execution_count": 11,
      "outputs": [
        {
          "output_type": "execute_result",
          "data": {
            "text/plain": [
              "tensor(1.3160)"
            ]
          },
          "metadata": {
            "tags": []
          },
          "execution_count": 11
        }
      ]
    },
    {
      "cell_type": "markdown",
      "metadata": {
        "id": "OsqcB8FJT5Ir"
      },
      "source": [
        "### Binary Cross Entropy Loss-"
      ]
    },
    {
      "cell_type": "code",
      "metadata": {
        "colab": {
          "base_uri": "https://localhost:8080/"
        },
        "id": "jhGEHO-iR7fG",
        "outputId": "c3404e0e-6c9b-4754-c62c-39ff60a93b3d"
      },
      "source": [
        "# since it is a binary cross entropy we can only have 0 or 1-\n",
        "label = torch.zeros(4,5).random_(0,2)\n",
        "label"
      ],
      "execution_count": 13,
      "outputs": [
        {
          "output_type": "execute_result",
          "data": {
            "text/plain": [
              "tensor([[0., 1., 1., 1., 0.],\n",
              "        [1., 1., 1., 0., 0.],\n",
              "        [0., 1., 1., 1., 1.],\n",
              "        [0., 0., 0., 0., 1.]])"
            ]
          },
          "metadata": {
            "tags": []
          },
          "execution_count": 13
        }
      ]
    },
    {
      "cell_type": "code",
      "metadata": {
        "id": "JIY57KxxUrrG"
      },
      "source": [
        "# we need to also pass our prediction to sigmoid layer since it is not between 0 and 1 -\n",
        "sigmoid = nn.Sigmoid()"
      ],
      "execution_count": 15,
      "outputs": []
    },
    {
      "cell_type": "code",
      "metadata": {
        "id": "4Dql1ArvWMf0"
      },
      "source": [
        "bce = nn.BCELoss(reduction='mean')"
      ],
      "execution_count": 16,
      "outputs": []
    },
    {
      "cell_type": "code",
      "metadata": {
        "colab": {
          "base_uri": "https://localhost:8080/"
        },
        "id": "lfHE4mDYZpXQ",
        "outputId": "85ec0db0-177e-421e-ef40-dd8dd37f1313"
      },
      "source": [
        "bce(sigmoid(prediction),label)"
      ],
      "execution_count": 17,
      "outputs": [
        {
          "output_type": "execute_result",
          "data": {
            "text/plain": [
              "tensor(0.9112)"
            ]
          },
          "metadata": {
            "tags": []
          },
          "execution_count": 17
        }
      ]
    },
    {
      "cell_type": "markdown",
      "metadata": {
        "id": "bxGryhgDaRGP"
      },
      "source": [
        "### Implementing Binary Cross Entropy manually-"
      ]
    },
    {
      "cell_type": "code",
      "metadata": {
        "id": "hd7X7nxLZzRX"
      },
      "source": [
        "import numpy as np"
      ],
      "execution_count": 18,
      "outputs": []
    },
    {
      "cell_type": "code",
      "metadata": {
        "id": "mm8JSsoTaiXf"
      },
      "source": [
        "# converting our prediction to numpy array-\n",
        "x = prediction.numpy()\n",
        "y = label.numpy()"
      ],
      "execution_count": 19,
      "outputs": []
    },
    {
      "cell_type": "code",
      "metadata": {
        "id": "r7REjHzodkOc"
      },
      "source": [
        "# sigmoid function\n",
        "def sigmoid(x):\n",
        "  return 1/(1+np.exp(-x))"
      ],
      "execution_count": 21,
      "outputs": []
    },
    {
      "cell_type": "code",
      "metadata": {
        "id": "qW70My90d_0b"
      },
      "source": [
        "x = sigmoid(x)"
      ],
      "execution_count": 23,
      "outputs": []
    },
    {
      "cell_type": "code",
      "metadata": {
        "colab": {
          "base_uri": "https://localhost:8080/"
        },
        "id": "hEGsflAxbAjC",
        "outputId": "cccf912c-229f-4614-acf3-6671a94a708a"
      },
      "source": [
        "# since it is 2-D we will be needing two for loops for it.\n",
        "# looping over row and column.\n",
        "loss_values = []\n",
        "for i in range(len(y)):\n",
        "  batch_loss = []\n",
        "  for j in range(len(y[0])):\n",
        "    batch_loss.append(-np.log(x[i][j]) if y[i][j] == 1 else -np.log(1-x[i][j]))\n",
        "\n",
        "  loss_values.append(batch_loss)\n",
        "\n",
        "print(np.mean(loss_values))\n"
      ],
      "execution_count": 24,
      "outputs": [
        {
          "output_type": "stream",
          "text": [
            "0.9111903263550148\n"
          ],
          "name": "stdout"
        }
      ]
    },
    {
      "cell_type": "code",
      "metadata": {
        "id": "ZtHzrc6MdgXv"
      },
      "source": [
        ""
      ],
      "execution_count": null,
      "outputs": []
    }
  ]
}