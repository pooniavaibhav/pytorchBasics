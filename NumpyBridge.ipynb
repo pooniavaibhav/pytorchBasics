{
  "nbformat": 4,
  "nbformat_minor": 0,
  "metadata": {
    "colab": {
      "name": "NumpyBridge.ipynb",
      "provenance": [],
      "collapsed_sections": [],
      "authorship_tag": "ABX9TyPeoT4pBqJKFSkT/uEirICX",
      "include_colab_link": true
    },
    "kernelspec": {
      "name": "python3",
      "display_name": "Python 3"
    },
    "language_info": {
      "name": "python"
    },
    "accelerator": "GPU"
  },
  "cells": [
    {
      "cell_type": "markdown",
      "metadata": {
        "id": "view-in-github",
        "colab_type": "text"
      },
      "source": [
        "<a href=\"https://colab.research.google.com/github/pooniavaibhav/pytorchBasics/blob/main/NumpyBridge.ipynb\" target=\"_parent\"><img src=\"https://colab.research.google.com/assets/colab-badge.svg\" alt=\"Open In Colab\"/></a>"
      ]
    },
    {
      "cell_type": "code",
      "metadata": {
        "id": "PWwC1w0IG5RH"
      },
      "source": [
        " import numpy as np\n",
        " import torch"
      ],
      "execution_count": 2,
      "outputs": []
    },
    {
      "cell_type": "code",
      "metadata": {
        "colab": {
          "base_uri": "https://localhost:8080/"
        },
        "id": "igwyYRzPHLgS",
        "outputId": "2a4019f2-d4d3-40c7-cce3-c021ee1e816e"
      },
      "source": [
        "#converting a torch tensor to a numpy array-\n",
        "torch_array = torch.ones(5)\n",
        "numpy_array = torch_array.numpy()\n",
        "print(numpy_array)\n",
        "print(type(numpy_array))"
      ],
      "execution_count": 3,
      "outputs": [
        {
          "output_type": "stream",
          "text": [
            "[1. 1. 1. 1. 1.]\n",
            "<class 'numpy.ndarray'>\n"
          ],
          "name": "stdout"
        }
      ]
    },
    {
      "cell_type": "code",
      "metadata": {
        "colab": {
          "base_uri": "https://localhost:8080/"
        },
        "id": "JdJ8CvK9IFr7",
        "outputId": "3d8b9538-f579-4966-d865-4a7e3d40c22b"
      },
      "source": [
        "# now make a change in the torch_array-\n",
        "# You will see a change in the numpy_array also this is called numpy bridge. \n",
        "torch_array.add_(1)\n",
        "print(torch_array)\n",
        "print(numpy_array)"
      ],
      "execution_count": 4,
      "outputs": [
        {
          "output_type": "stream",
          "text": [
            "tensor([2., 2., 2., 2., 2.])\n",
            "[2. 2. 2. 2. 2.]\n"
          ],
          "name": "stdout"
        }
      ]
    },
    {
      "cell_type": "code",
      "metadata": {
        "colab": {
          "base_uri": "https://localhost:8080/"
        },
        "id": "Jb-4cyksI08-",
        "outputId": "9fe130c4-ee8b-43ea-b1eb-c61269df2de1"
      },
      "source": [
        "# converting the Numpy array to Torch tensor-\n",
        "# see how changing the np array changed the torch tensor automatically-\n",
        "a = np.ones(5)\n",
        "b = torch.from_numpy(a)\n",
        "np.add(a,1,out=a)\n",
        "print(a)\n",
        "print(b)"
      ],
      "execution_count": 5,
      "outputs": [
        {
          "output_type": "stream",
          "text": [
            "[2. 2. 2. 2. 2.]\n",
            "tensor([2., 2., 2., 2., 2.], dtype=torch.float64)\n"
          ],
          "name": "stdout"
        }
      ]
    },
    {
      "cell_type": "code",
      "metadata": {
        "colab": {
          "base_uri": "https://localhost:8080/"
        },
        "id": "cpGQowlRJaY-",
        "outputId": "0d1e8aac-6411-4372-e563-36da1c8e299d"
      },
      "source": [
        "# move a tensor to the GPU-\n",
        "torch_array = torch.ones(5)\n",
        "torch_array = torch_array.cuda()\n",
        "print(torch_array)"
      ],
      "execution_count": 6,
      "outputs": [
        {
          "output_type": "stream",
          "text": [
            "tensor([1., 1., 1., 1., 1.], device='cuda:0')\n"
          ],
          "name": "stdout"
        }
      ]
    },
    {
      "cell_type": "code",
      "metadata": {
        "colab": {
          "base_uri": "https://localhost:8080/"
        },
        "id": "yffKhJ13LYsg",
        "outputId": "8c12e31f-7f13-4ef4-c0f7-976eaaaed03a"
      },
      "source": [
        "# Provide easy switching between CPU and GPU\n",
        "add_result = torch.ones(5)\n",
        "CUDA = torch.cuda.is_available()\n",
        "print(CUDA)\n",
        "if CUDA:\n",
        "  add_result = add_result.cuda()\n",
        "  print(add_result)"
      ],
      "execution_count": 8,
      "outputs": [
        {
          "output_type": "stream",
          "text": [
            "True\n",
            "tensor([1., 1., 1., 1., 1.], device='cuda:0')\n"
          ],
          "name": "stdout"
        }
      ]
    },
    {
      "cell_type": "code",
      "metadata": {
        "colab": {
          "base_uri": "https://localhost:8080/"
        },
        "id": "b7csAVo6M9-U",
        "outputId": "d08b0bfe-2298-4702-85b2-4a857e989ed1"
      },
      "source": [
        "#converting a list to tensor-\n",
        "d = [2,3,4,6]\n",
        "print(d)\n",
        "to_list = torch.tensor(d)\n",
        "print(to_list,to_list.dtype)"
      ],
      "execution_count": 9,
      "outputs": [
        {
          "output_type": "stream",
          "text": [
            "[2, 3, 4, 6]\n",
            "tensor([2, 3, 4, 6]) torch.int64\n"
          ],
          "name": "stdout"
        }
      ]
    },
    {
      "cell_type": "markdown",
      "metadata": {
        "id": "wFCD5zL3OI46"
      },
      "source": [
        "# Tensor Concatenation"
      ]
    },
    {
      "cell_type": "code",
      "metadata": {
        "colab": {
          "base_uri": "https://localhost:8080/"
        },
        "id": "t2AEmR6xOOpH",
        "outputId": "fb209d31-e992-4cc1-d7c9-b928f55387b8"
      },
      "source": [
        "# Tensor Concatenation\n",
        "first_1 = torch.randn(2,5)\n",
        "print(first_1)\n",
        "second_1 = torch.randn(3,5)\n",
        "print(second_1)\n",
        "# Concatinating along the 0 dimension (concatenate rows) -\n",
        "print('\\n')\n",
        "con_1 = torch.cat([first_1, second_1])\n",
        "print(con_1)\n",
        "print('\\n')"
      ],
      "execution_count": 12,
      "outputs": [
        {
          "output_type": "stream",
          "text": [
            "tensor([[ 1.0138,  0.5105,  0.4978, -0.6573, -1.5382],\n",
            "        [ 0.8860, -0.9342,  0.5312, -0.8742, -0.0811]])\n",
            "tensor([[ 0.1026, -0.2829,  0.8216, -1.7967,  0.4410],\n",
            "        [-0.2245, -1.9092, -0.7891,  0.3581, -1.7591],\n",
            "        [ 0.1051,  0.2076,  0.4728,  1.1694,  1.6555]])\n",
            "\n",
            "\n",
            "tensor([[ 1.0138,  0.5105,  0.4978, -0.6573, -1.5382],\n",
            "        [ 0.8860, -0.9342,  0.5312, -0.8742, -0.0811],\n",
            "        [ 0.1026, -0.2829,  0.8216, -1.7967,  0.4410],\n",
            "        [-0.2245, -1.9092, -0.7891,  0.3581, -1.7591],\n",
            "        [ 0.1051,  0.2076,  0.4728,  1.1694,  1.6555]])\n",
            "\n",
            "\n"
          ],
          "name": "stdout"
        }
      ]
    },
    {
      "cell_type": "code",
      "metadata": {
        "colab": {
          "base_uri": "https://localhost:8080/"
        },
        "id": "gxaffH4xO71Y",
        "outputId": "8a6df758-6518-4ba0-a6a5-cf9843228e4d"
      },
      "source": [
        "# concatinate along the 1 dimension (concatinate columns)-\n",
        "first_2 = torch.randn(2,3)\n",
        "print(first_2)\n",
        "second_2 = torch.randn(2,5)\n",
        "print(second_2)\n",
        "con2 = torch.cat([first_2, second_2], 1)\n",
        "print(con2)"
      ],
      "execution_count": 15,
      "outputs": [
        {
          "output_type": "stream",
          "text": [
            "tensor([[ 1.4578,  0.4513,  0.3705],\n",
            "        [-1.5089, -0.1307,  0.2230]])\n",
            "tensor([[ 1.7642,  0.4943,  0.4572, -0.1562, -0.0736],\n",
            "        [ 0.2933,  0.5049, -0.0484,  1.0417,  0.8421]])\n",
            "tensor([[ 1.4578,  0.4513,  0.3705,  1.7642,  0.4943,  0.4572, -0.1562, -0.0736],\n",
            "        [-1.5089, -0.1307,  0.2230,  0.2933,  0.5049, -0.0484,  1.0417,  0.8421]])\n"
          ],
          "name": "stdout"
        }
      ]
    },
    {
      "cell_type": "markdown",
      "metadata": {
        "id": "cKzJnBN3Rjms"
      },
      "source": [
        "## Adding dimensions to the tensor"
      ]
    },
    {
      "cell_type": "code",
      "metadata": {
        "colab": {
          "base_uri": "https://localhost:8080/"
        },
        "id": "K9hYyrZzRKpX",
        "outputId": "52345032-ca85-4136-fa0f-8c8620ab91f7"
      },
      "source": [
        "# unsqueeze adds a dimension along the specified index\n",
        "tensor_1 = torch.tensor([1, 2, 3, 4])\n",
        "tensor_2 = torch.unsqueeze(tensor_1,0)\n",
        "print(tensor_2)\n",
        "print(tensor_2.shape)\n",
        "tensor_b = torch.unsqueeze(tensor_1,1)\n",
        "print(tensor_b)\n",
        "print(tensor_b.shape)"
      ],
      "execution_count": 18,
      "outputs": [
        {
          "output_type": "stream",
          "text": [
            "tensor([[1, 2, 3, 4]])\n",
            "torch.Size([1, 4])\n",
            "tensor([[1],\n",
            "        [2],\n",
            "        [3],\n",
            "        [4]])\n",
            "torch.Size([4, 1])\n"
          ],
          "name": "stdout"
        }
      ]
    },
    {
      "cell_type": "code",
      "metadata": {
        "colab": {
          "base_uri": "https://localhost:8080/"
        },
        "id": "0o4RJv8ASZgd",
        "outputId": "9d69fb37-1438-4848-b723-8f997de9e591"
      },
      "source": [
        "# for 3d columns-\n",
        "tensor_3 = torch.rand(2,3,4)\n",
        "print(tensor_3)\n",
        "print('\\n')\n",
        "tensor_4 = tensor_3[:,:,2]\n",
        "print(tensor_4)\n",
        "print(tensor_4.shape)\n",
        "tensor_5 = torch.unsqueeze(tensor_4,2)\n",
        "print(tensor_5)"
      ],
      "execution_count": 19,
      "outputs": [
        {
          "output_type": "stream",
          "text": [
            "tensor([[[0.9574, 0.5491, 0.6166, 0.6968],\n",
            "         [0.5462, 0.6364, 0.9293, 0.9389],\n",
            "         [0.9945, 0.3434, 0.0793, 0.6724]],\n",
            "\n",
            "        [[0.5582, 0.2103, 0.3637, 0.0438],\n",
            "         [0.5426, 0.7920, 0.6254, 0.2832],\n",
            "         [0.9391, 0.9574, 0.7440, 0.1947]]])\n",
            "\n",
            "\n",
            "tensor([[0.6166, 0.9293, 0.0793],\n",
            "        [0.3637, 0.6254, 0.7440]])\n",
            "torch.Size([2, 3])\n",
            "tensor([[[0.6166],\n",
            "         [0.9293],\n",
            "         [0.0793]],\n",
            "\n",
            "        [[0.3637],\n",
            "         [0.6254],\n",
            "         [0.7440]]])\n"
          ],
          "name": "stdout"
        }
      ]
    },
    {
      "cell_type": "code",
      "metadata": {
        "id": "1j_SYrINU6kI"
      },
      "source": [
        ""
      ],
      "execution_count": null,
      "outputs": []
    }
  ]
}