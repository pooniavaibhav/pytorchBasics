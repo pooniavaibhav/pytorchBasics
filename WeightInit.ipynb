{
  "nbformat": 4,
  "nbformat_minor": 0,
  "metadata": {
    "colab": {
      "name": "WeightInit.ipynb",
      "provenance": [],
      "authorship_tag": "ABX9TyNjW2UnQq2VGS1Q/75leLcL",
      "include_colab_link": true
    },
    "kernelspec": {
      "name": "python3",
      "display_name": "Python 3"
    },
    "language_info": {
      "name": "python"
    }
  },
  "cells": [
    {
      "cell_type": "markdown",
      "metadata": {
        "id": "view-in-github",
        "colab_type": "text"
      },
      "source": [
        "<a href=\"https://colab.research.google.com/github/pooniavaibhav/pytorchBasics/blob/main/WeightInit.ipynb\" target=\"_parent\"><img src=\"https://colab.research.google.com/assets/colab-badge.svg\" alt=\"Open In Colab\"/></a>"
      ]
    },
    {
      "cell_type": "code",
      "metadata": {
        "id": "cRa98PQQfkmB"
      },
      "source": [
        "import torch\n",
        "import torch.nn as nn"
      ],
      "execution_count": 1,
      "outputs": []
    },
    {
      "cell_type": "code",
      "metadata": {
        "id": "ARf5g4k9f5wO"
      },
      "source": [
        "layer = nn.Linear(5,5)"
      ],
      "execution_count": 2,
      "outputs": []
    },
    {
      "cell_type": "code",
      "metadata": {
        "colab": {
          "base_uri": "https://localhost:8080/"
        },
        "id": "HsUBOcj1gGcr",
        "outputId": "76fd68a4-01db-4764-f9bd-dd8e4024ea6e"
      },
      "source": [
        "# By default it uses Xavier initialisation technique-\n",
        "layer.weight.data"
      ],
      "execution_count": 4,
      "outputs": [
        {
          "output_type": "execute_result",
          "data": {
            "text/plain": [
              "tensor([[ 0.4299, -0.4005, -0.1459, -0.2818, -0.1609],\n",
              "        [-0.0499, -0.0715, -0.3812,  0.0726, -0.4431],\n",
              "        [ 0.1033, -0.3907, -0.2385, -0.3761,  0.4164],\n",
              "        [ 0.3319, -0.4143, -0.0059, -0.3360, -0.3042],\n",
              "        [ 0.2745, -0.1078,  0.3102,  0.4362, -0.0395]])"
            ]
          },
          "metadata": {
            "tags": []
          },
          "execution_count": 4
        }
      ]
    },
    {
      "cell_type": "markdown",
      "metadata": {
        "id": "6EcaF1yKg0xM"
      },
      "source": [
        "### Uniform Distribution"
      ]
    },
    {
      "cell_type": "code",
      "metadata": {
        "colab": {
          "base_uri": "https://localhost:8080/"
        },
        "id": "a3os59vBgKhm",
        "outputId": "7f13277c-42fe-416d-d9bb-aec6d09ffc7b"
      },
      "source": [
        "#Here we have a uniform distribution between minimum point to maximum point.\n",
        "nn.init.uniform_(layer.weight.data, a=0,b=3)"
      ],
      "execution_count": 5,
      "outputs": [
        {
          "output_type": "execute_result",
          "data": {
            "text/plain": [
              "tensor([[1.0990, 1.0336, 2.0511, 1.8463, 0.5226],\n",
              "        [2.7556, 2.9772, 0.5488, 1.4135, 2.3348],\n",
              "        [1.5000, 0.4596, 2.3554, 1.0727, 1.7616],\n",
              "        [1.9151, 2.4632, 2.9966, 2.0220, 2.9341],\n",
              "        [0.0034, 0.7855, 1.0790, 2.4931, 2.7395]])"
            ]
          },
          "metadata": {
            "tags": []
          },
          "execution_count": 5
        }
      ]
    },
    {
      "cell_type": "markdown",
      "metadata": {
        "id": "1ZikORRnicTC"
      },
      "source": [
        "### Normal Distribution-"
      ]
    },
    {
      "cell_type": "code",
      "metadata": {
        "colab": {
          "base_uri": "https://localhost:8080/"
        },
        "id": "J47BW-SViF1W",
        "outputId": "eb2f56d3-209b-4926-f529-62e6192fbf70"
      },
      "source": [
        "#Here we have a mean of 0 and SD of 1-\n",
        "nn.init.normal_(layer.weight, mean=0.0,std=1)"
      ],
      "execution_count": 7,
      "outputs": [
        {
          "output_type": "execute_result",
          "data": {
            "text/plain": [
              "Parameter containing:\n",
              "tensor([[-0.3990, -2.8430,  0.2546,  0.2643,  0.4955],\n",
              "        [-0.2649, -0.9660, -0.9504, -0.9416,  0.7266],\n",
              "        [-0.1542,  0.6295, -0.0873, -0.7549, -0.0899],\n",
              "        [ 1.5681, -0.0432, -0.4913, -1.2003,  0.1148],\n",
              "        [-1.5307,  0.7774,  0.0969,  1.8497,  1.6237]], requires_grad=True)"
            ]
          },
          "metadata": {
            "tags": []
          },
          "execution_count": 7
        }
      ]
    },
    {
      "cell_type": "code",
      "metadata": {
        "id": "9rZlrTQujlN2"
      },
      "source": [
        ""
      ],
      "execution_count": null,
      "outputs": []
    }
  ]
}