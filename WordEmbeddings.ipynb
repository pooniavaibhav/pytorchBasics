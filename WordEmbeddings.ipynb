{
  "nbformat": 4,
  "nbformat_minor": 0,
  "metadata": {
    "colab": {
      "name": "WordEmbeddings.ipynb",
      "provenance": [],
      "authorship_tag": "ABX9TyO368ir/vTF3t4d3OhsBgup",
      "include_colab_link": true
    },
    "kernelspec": {
      "name": "python3",
      "display_name": "Python 3"
    },
    "language_info": {
      "name": "python"
    }
  },
  "cells": [
    {
      "cell_type": "markdown",
      "metadata": {
        "id": "view-in-github",
        "colab_type": "text"
      },
      "source": [
        "<a href=\"https://colab.research.google.com/github/pooniavaibhav/pytorchBasics/blob/main/WordEmbeddings.ipynb\" target=\"_parent\"><img src=\"https://colab.research.google.com/assets/colab-badge.svg\" alt=\"Open In Colab\"/></a>"
      ]
    },
    {
      "cell_type": "code",
      "metadata": {
        "id": "BuKoTZHkbyn6"
      },
      "source": [
        "import torch\n",
        "import torch.nn as nn\n",
        "import torch.nn.functional as F\n",
        "import torch.optim as optim"
      ],
      "execution_count": 1,
      "outputs": []
    },
    {
      "cell_type": "code",
      "metadata": {
        "id": "oClXx9QKcmzR"
      },
      "source": [
        "#The indices of the words represent the values in the look up table-\n",
        "word_to_idx = {\"I\":0,\"love\":1,\"eating\":2,\"and\":3, \"sleeping\":4}\n",
        "embeddings = nn.Embedding(5,7)  #5 words in vocab, embedding size is 7\n",
        "all_ind = torch.tensor([w for w in range(5)], dtype = torch.long)\n",
        "all_words = embeddings(all_ind)"
      ],
      "execution_count": 3,
      "outputs": []
    },
    {
      "cell_type": "code",
      "metadata": {
        "colab": {
          "base_uri": "https://localhost:8080/"
        },
        "id": "Sok1meYBfNTV",
        "outputId": "26d0d68c-775e-4498-a966-329087ffdae9"
      },
      "source": [
        "print(all_words)\n",
        "print(all_words.shape)"
      ],
      "execution_count": 4,
      "outputs": [
        {
          "output_type": "stream",
          "text": [
            "tensor([[ 0.8051,  1.3611,  0.1160, -0.5256,  0.5938,  0.2695,  0.4111],\n",
            "        [-1.6150, -0.4243,  1.0863,  0.0728, -0.2789, -0.8204,  0.1001],\n",
            "        [-1.0590,  0.5247,  0.3210, -0.2321,  1.4062,  0.5114, -0.1475],\n",
            "        [-0.2479,  0.4574,  0.6949,  0.4580,  1.0687, -0.7169, -0.8514],\n",
            "        [ 0.9144, -0.9938,  0.7043,  0.4597,  0.9827,  0.4156,  0.1535]],\n",
            "       grad_fn=<EmbeddingBackward>)\n",
            "torch.Size([5, 7])\n"
          ],
          "name": "stdout"
        }
      ]
    },
    {
      "cell_type": "code",
      "metadata": {
        "id": "NMx_07SbfVv6"
      },
      "source": [
        ""
      ],
      "execution_count": null,
      "outputs": []
    }
  ]
}