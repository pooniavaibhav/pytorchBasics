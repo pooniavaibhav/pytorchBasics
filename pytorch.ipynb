{
  "nbformat": 4,
  "nbformat_minor": 0,
  "metadata": {
    "colab": {
      "name": "pytorch.ipynb",
      "provenance": [],
      "collapsed_sections": [],
      "authorship_tag": "ABX9TyNyBFc7JNIGschewFxsYY6D",
      "include_colab_link": true
    },
    "kernelspec": {
      "name": "python3",
      "display_name": "Python 3"
    },
    "language_info": {
      "name": "python"
    }
  },
  "cells": [
    {
      "cell_type": "markdown",
      "metadata": {
        "id": "view-in-github",
        "colab_type": "text"
      },
      "source": [
        "<a href=\"https://colab.research.google.com/github/pooniavaibhav/pytorchBasics/blob/main/pytorch.ipynb\" target=\"_parent\"><img src=\"https://colab.research.google.com/assets/colab-badge.svg\" alt=\"Open In Colab\"/></a>"
      ]
    },
    {
      "cell_type": "code",
      "metadata": {
        "id": "B8IQisVr84q4"
      },
      "source": [
        "import torch"
      ],
      "execution_count": null,
      "outputs": []
    },
    {
      "cell_type": "markdown",
      "metadata": {
        "id": "xSGnsVBXHOlA"
      },
      "source": [
        "## Torch Tensors"
      ]
    },
    {
      "cell_type": "code",
      "metadata": {
        "id": "FmDH6VBVHk94",
        "colab": {
          "base_uri": "https://localhost:8080/"
        },
        "outputId": "bc0df5a1-da92-41ed-907c-191db565882b"
      },
      "source": [
        "# this is a 1-D Array\n",
        "a = torch.tensor([2,3,5,7])\n",
        "print(a)"
      ],
      "execution_count": 3,
      "outputs": [
        {
          "output_type": "stream",
          "text": [
            "tensor([2, 3, 5, 7])\n"
          ],
          "name": "stdout"
        }
      ]
    },
    {
      "cell_type": "code",
      "metadata": {
        "colab": {
          "base_uri": "https://localhost:8080/"
        },
        "id": "C-F0VZe-Io3O",
        "outputId": "db048e7f-37dd-4372-dccf-bf71598fd80d"
      },
      "source": [
        "# 2-D tensor\n",
        "b = torch.tensor([[2,4,5],[7,8,6],[2,7,9]])\n",
        "print(b)"
      ],
      "execution_count": 4,
      "outputs": [
        {
          "output_type": "stream",
          "text": [
            "tensor([[2, 4, 5],\n",
            "        [7, 8, 6],\n",
            "        [2, 7, 9]])\n"
          ],
          "name": "stdout"
        }
      ]
    },
    {
      "cell_type": "code",
      "metadata": {
        "colab": {
          "base_uri": "https://localhost:8080/"
        },
        "id": "R9ltYUWGJADy",
        "outputId": "4f464965-d3e7-4f37-fad6-ecc00f586335"
      },
      "source": [
        "# the size of tensors-\n",
        "print(a.shape)\n",
        "print(b.shape)\n",
        "print(a.size())\n",
        "print(b.size())"
      ],
      "execution_count": 5,
      "outputs": [
        {
          "output_type": "stream",
          "text": [
            "torch.Size([4])\n",
            "torch.Size([3, 3])\n",
            "torch.Size([4])\n",
            "torch.Size([3, 3])\n"
          ],
          "name": "stdout"
        }
      ]
    },
    {
      "cell_type": "code",
      "metadata": {
        "colab": {
          "base_uri": "https://localhost:8080/"
        },
        "id": "lnier_MMJTwB",
        "outputId": "af9e4116-3a79-4e76-a1de-2d3af8e93151"
      },
      "source": [
        "# get the number/height of tensor\n",
        "print(b.shape[0])"
      ],
      "execution_count": 6,
      "outputs": [
        {
          "output_type": "stream",
          "text": [
            "3\n"
          ],
          "name": "stdout"
        }
      ]
    },
    {
      "cell_type": "code",
      "metadata": {
        "colab": {
          "base_uri": "https://localhost:8080/"
        },
        "id": "E7GsMjIlJkGw",
        "outputId": "5c219d75-00e8-4a3c-d5d7-b55250a5f4ea"
      },
      "source": [
        " #To create a float tensor-\n",
        " #float is nothing but a method to represent very large or very small numbers  as an approximation to support a trade-off between range and precision.\n",
        "float_tensor = torch.FloatTensor([[2,5,8],[6,8,9],[7,3,1]])\n",
        " # or \n",
        "float_tensor1 = torch.tensor([[1,3,4],[7,8,9],[1,4,7]],dtype=torch.float) \n",
        "print(c)\n",
        "print(d.dtype)"
      ],
      "execution_count": 17,
      "outputs": [
        {
          "output_type": "stream",
          "text": [
            "tensor([[2., 5., 8.],\n",
            "        [6., 8., 9.],\n",
            "        [7., 3., 1.]])\n",
            "torch.float32\n"
          ],
          "name": "stdout"
        }
      ]
    },
    {
      "cell_type": "code",
      "metadata": {
        "colab": {
          "base_uri": "https://localhost:8080/"
        },
        "id": "DU5bJtaaNPau",
        "outputId": "199c1d89-88f4-4b5a-af3d-0732bc1eeb26"
      },
      "source": [
        "#To create a double tensor-\n",
        "# double is also a method to represent large or small numbers.Double is more precise and for storing large numbers, we prefer double over float. \n",
        "# Unless we do need precision up to 15 or 16 decimal points, we can stick to float in most applications, as double is more expensive\n",
        "double_tensor = torch.DoubleTensor([[2,5,7],[1,2,6],[6,8,0]])\n",
        "# or\n",
        "double_tensor1 = torch.tensor([[1,3,4],[7,8,9],[1,4,7]],dtype=torch.double)\n",
        "print(double_tensor)\n",
        "print(double_tensor1.dtype)"
      ],
      "execution_count": 16,
      "outputs": [
        {
          "output_type": "stream",
          "text": [
            "tensor([[2., 5., 7.],\n",
            "        [1., 2., 6.],\n",
            "        [6., 8., 0.]], dtype=torch.float64)\n",
            "torch.float64\n"
          ],
          "name": "stdout"
        }
      ]
    },
    {
      "cell_type": "code",
      "metadata": {
        "colab": {
          "base_uri": "https://localhost:8080/"
        },
        "id": "IPoIYxghPysJ",
        "outputId": "314423e7-7bd2-4e60-f06b-5226b63e947e"
      },
      "source": [
        "#calculating the mean-\n",
        "print(float_tensor1.mean())\n",
        "print(double_tensor.mean())"
      ],
      "execution_count": 19,
      "outputs": [
        {
          "output_type": "stream",
          "text": [
            "tensor(4.8889)\n",
            "tensor(4.1111, dtype=torch.float64)\n"
          ],
          "name": "stdout"
        }
      ]
    },
    {
      "cell_type": "code",
      "metadata": {
        "colab": {
          "base_uri": "https://localhost:8080/"
        },
        "id": "eHj0oLaqPtuY",
        "outputId": "c3a1e654-4cf7-45e0-dd81-132a0a0b2ae7"
      },
      "source": [
        "# calculating the standard deviation-\n",
        "print(float_tensor1.std())\n",
        "print(double_tensor.std())"
      ],
      "execution_count": 20,
      "outputs": [
        {
          "output_type": "stream",
          "text": [
            "tensor(2.9768)\n",
            "tensor(2.8916, dtype=torch.float64)\n"
          ],
          "name": "stdout"
        }
      ]
    },
    {
      "cell_type": "code",
      "metadata": {
        "colab": {
          "base_uri": "https://localhost:8080/"
        },
        "id": "elgt1B4KOmNm",
        "outputId": "6f136554-8ce6-4788-fee7-a4774849c44c"
      },
      "source": [
        "# Reshape the tensor-\n",
        "# by providing the -1 python itself finds out the the number of rows-\n",
        "print(b.view(-1,1))\n",
        "#Yo can create a 1D array out of it-\n",
        "print(b.view(9))\n",
        "#shape into -1(rows times) * columns\n",
        "print(b.view([-1,3]))\n",
        "#shape into any times row * any times column-\n",
        "print(b.view([9,1]))\n",
        "#assign to a new shape\n",
        "new_tensor = b.view([3,3])\n",
        "print(new_tensor)"
      ],
      "execution_count": 32,
      "outputs": [
        {
          "output_type": "stream",
          "text": [
            "tensor([[2],\n",
            "        [4],\n",
            "        [5],\n",
            "        [7],\n",
            "        [8],\n",
            "        [6],\n",
            "        [2],\n",
            "        [7],\n",
            "        [9]])\n",
            "tensor([2, 4, 5, 7, 8, 6, 2, 7, 9])\n",
            "tensor([[2, 4, 5],\n",
            "        [7, 8, 6],\n",
            "        [2, 7, 9]])\n",
            "tensor([[2],\n",
            "        [4],\n",
            "        [5],\n",
            "        [7],\n",
            "        [8],\n",
            "        [6],\n",
            "        [2],\n",
            "        [7],\n",
            "        [9]])\n",
            "tensor([[2, 4, 5],\n",
            "        [7, 8, 6],\n",
            "        [2, 7, 9]])\n"
          ],
          "name": "stdout"
        }
      ]
    },
    {
      "cell_type": "code",
      "metadata": {
        "colab": {
          "base_uri": "https://localhost:8080/"
        },
        "id": "dWSWG87QSEMd",
        "outputId": "e340c872-8ad4-4855-cbd3-1d2648a0b9f0"
      },
      "source": [
        "#create a 3d tensor with channel,rows,columns\n",
        "three_dim = torch.randn(2,3,4)\n",
        "print(three_dim.view(2, 12))\n",
        "print(three_dim.view(3,-1))"
      ],
      "execution_count": 35,
      "outputs": [
        {
          "output_type": "stream",
          "text": [
            "tensor([[ 0.7523,  0.2427, -0.6483, -1.4084, -0.0794,  0.3265,  1.1633,  0.3887,\n",
            "          1.1742, -1.4552, -1.2554, -1.2419],\n",
            "        [-0.2221, -1.1434,  1.0661,  0.0236,  1.1231,  0.3432, -1.7997,  0.7384,\n",
            "          1.2868,  0.8411,  0.8247, -1.4260]])\n",
            "tensor([[ 0.7523,  0.2427, -0.6483, -1.4084, -0.0794,  0.3265,  1.1633,  0.3887],\n",
            "        [ 1.1742, -1.4552, -1.2554, -1.2419, -0.2221, -1.1434,  1.0661,  0.0236],\n",
            "        [ 1.1231,  0.3432, -1.7997,  0.7384,  1.2868,  0.8411,  0.8247, -1.4260]])\n"
          ],
          "name": "stdout"
        }
      ]
    },
    {
      "cell_type": "code",
      "metadata": {
        "colab": {
          "base_uri": "https://localhost:8080/"
        },
        "id": "y8kDXXmrgwVW",
        "outputId": "87bf7c63-be34-4099-c67a-e972394960f4"
      },
      "source": [
        "## Create a matrix with random numbers between 0 and 1-\n",
        "r = torch.rand(4,4)\n",
        "print(r)"
      ],
      "execution_count": 38,
      "outputs": [
        {
          "output_type": "stream",
          "text": [
            "tensor([[0.8574, 0.9413, 0.2254, 0.3112],\n",
            "        [0.9756, 0.4671, 0.8256, 0.1498],\n",
            "        [0.6449, 0.6160, 0.7010, 0.3118],\n",
            "        [0.9406, 0.3975, 0.3916, 0.3659]])\n"
          ],
          "name": "stdout"
        }
      ]
    },
    {
      "cell_type": "code",
      "metadata": {
        "colab": {
          "base_uri": "https://localhost:8080/"
        },
        "id": "uVbVWWjpVX8e",
        "outputId": "18712cae-2fa6-4425-f113-6ed37f7988a8"
      },
      "source": [
        "#Create a matrix with random numbers taken from a normal distribution with mean 0 and variance 1-\n",
        "r1 = torch.randn(4,4)\n",
        "print(r2)\n",
        "print(r2.dtype)"
      ],
      "execution_count": 37,
      "outputs": [
        {
          "output_type": "stream",
          "text": [
            "tensor([[ 3.6543e-01, -5.8744e-01,  1.3337e+00, -5.8298e-01],\n",
            "        [ 7.7584e-01,  1.7143e-03, -1.3982e+00, -3.1969e-01],\n",
            "        [-6.9047e-01,  4.1153e-01,  2.4750e+00, -4.4146e-01],\n",
            "        [ 1.2173e+00,  2.8527e-01,  1.3485e+00,  1.0768e+00]])\n",
            "torch.float32\n"
          ],
          "name": "stdout"
        }
      ]
    },
    {
      "cell_type": "code",
      "metadata": {
        "colab": {
          "base_uri": "https://localhost:8080/"
        },
        "id": "QV2vJTkqgklE",
        "outputId": "a6cda4c9-b789-4faf-ff1e-3aac2f58fec7"
      },
      "source": [
        "# create an array of 5 random integers from values between 6 and 9(exclusive of 10)\n",
        "int_array = torch.randint(6,9,(5,))\n",
        "print(int_array)"
      ],
      "execution_count": 39,
      "outputs": [
        {
          "output_type": "stream",
          "text": [
            "tensor([6, 7, 8, 8, 6])\n"
          ],
          "name": "stdout"
        }
      ]
    },
    {
      "cell_type": "code",
      "metadata": {
        "colab": {
          "base_uri": "https://localhost:8080/"
        },
        "id": "VBhslQHwhy9y",
        "outputId": "32afe67d-f742-480d-8a1b-dff83004d147"
      },
      "source": [
        "# create a 2D matrix of size 3*3 filled with random integers from values between 6 and 9-\n",
        "int_array2 = torch.randint(6,10,(3,3))\n",
        "print(int_array2)"
      ],
      "execution_count": 40,
      "outputs": [
        {
          "output_type": "stream",
          "text": [
            "tensor([[7, 7, 7],\n",
            "        [6, 7, 6],\n",
            "        [9, 9, 7]])\n"
          ],
          "name": "stdout"
        }
      ]
    },
    {
      "cell_type": "code",
      "metadata": {
        "colab": {
          "base_uri": "https://localhost:8080/"
        },
        "id": "E07AI3voiUga",
        "outputId": "9db71132-c459-4d98-d258-b0ac41ac4c97"
      },
      "source": [
        "# get the number of elements in array-\n",
        "print(torch.numel(int_array))\n",
        "print(torch.numel(int_array2))"
      ],
      "execution_count": 42,
      "outputs": [
        {
          "output_type": "stream",
          "text": [
            "5\n",
            "9\n"
          ],
          "name": "stdout"
        }
      ]
    },
    {
      "cell_type": "code",
      "metadata": {
        "colab": {
          "base_uri": "https://localhost:8080/"
        },
        "id": "fg6nFqOgi-zE",
        "outputId": "82075ba2-1880-4ca0-8e7a-005d287d0a66"
      },
      "source": [
        "# construct a 3x3 matrix of zeros and of dtype long:\n",
        "z = torch.zeros(3,3, dtype = torch.long)\n",
        "print(z)\n",
        "# construct a 3x3 matrix of ones-\n",
        "o = torch.ones(3,3)\n",
        "print(o)"
      ],
      "execution_count": 44,
      "outputs": [
        {
          "output_type": "stream",
          "text": [
            "tensor([[0, 0, 0],\n",
            "        [0, 0, 0],\n",
            "        [0, 0, 0]])\n",
            "tensor([[1., 1., 1.],\n",
            "        [1., 1., 1.],\n",
            "        [1., 1., 1.]])\n"
          ],
          "name": "stdout"
        }
      ]
    },
    {
      "cell_type": "code",
      "metadata": {
        "colab": {
          "base_uri": "https://localhost:8080/"
        },
        "id": "B64k2Ap8jdJn",
        "outputId": "e8a3b289-e677-47a4-c0cb-8734a27c5278"
      },
      "source": [
        "#creating a dtat set with random distribution similer and convert the data type of the tensor-\n",
        "changed_data = torch.randn_like(r2, dtype=torch.double)\n",
        "print(changed_data)"
      ],
      "execution_count": 46,
      "outputs": [
        {
          "output_type": "stream",
          "text": [
            "tensor([[ 0.4354,  0.6134, -1.4946,  0.6455],\n",
            "        [-1.7036, -0.1491, -0.7472,  0.3916],\n",
            "        [-0.2874,  1.1870,  1.8783,  1.5390],\n",
            "        [-0.6244, -0.3841, -1.5049,  1.0582]], dtype=torch.float64)\n"
          ],
          "name": "stdout"
        }
      ]
    },
    {
      "cell_type": "code",
      "metadata": {
        "colab": {
          "base_uri": "https://localhost:8080/"
        },
        "id": "KqC4K1qOkQdo",
        "outputId": "fac78f01-0f3d-40c3-a6e8-a61def411483"
      },
      "source": [
        "# add two tensors,make sure they have the same size and the data type-\n",
        "add_result = torch.add(r,r2)\n",
        "print(add_result)"
      ],
      "execution_count": 47,
      "outputs": [
        {
          "output_type": "stream",
          "text": [
            "tensor([[ 1.2228,  0.3539,  1.5591, -0.2718],\n",
            "        [ 1.7514,  0.4688, -0.5726, -0.1699],\n",
            "        [-0.0456,  1.0275,  3.1760, -0.1297],\n",
            "        [ 2.1579,  0.6827,  1.7401,  1.4427]])\n"
          ],
          "name": "stdout"
        }
      ]
    },
    {
      "cell_type": "code",
      "metadata": {
        "colab": {
          "base_uri": "https://localhost:8080/"
        },
        "id": "4z-nySQMlrWs",
        "outputId": "4c3eda9c-2602-4cfe-b696-5fad61d11995"
      },
      "source": [
        "#In -place addition (change the value of r2 to th addition)\n",
        "r2.add_(r)\n",
        "print(r2)"
      ],
      "execution_count": 48,
      "outputs": [
        {
          "output_type": "stream",
          "text": [
            "tensor([[ 1.2228,  0.3539,  1.5591, -0.2718],\n",
            "        [ 1.7514,  0.4688, -0.5726, -0.1699],\n",
            "        [-0.0456,  1.0275,  3.1760, -0.1297],\n",
            "        [ 2.1579,  0.6827,  1.7401,  1.4427]])\n"
          ],
          "name": "stdout"
        }
      ]
    },
    {
      "cell_type": "code",
      "metadata": {
        "colab": {
          "base_uri": "https://localhost:8080/"
        },
        "id": "I7UYXh0smA04",
        "outputId": "193b9bd3-7642-4680-ec55-45901191c704"
      },
      "source": [
        "# matrix slicing - \n",
        "print(r2[:,1])\n",
        "print(r2[:,:2])\n",
        "print(r2[2:3])"
      ],
      "execution_count": 51,
      "outputs": [
        {
          "output_type": "stream",
          "text": [
            "tensor([0.3539, 0.4688, 1.0275, 0.6827])\n",
            "tensor([[ 1.2228,  0.3539],\n",
            "        [ 1.7514,  0.4688],\n",
            "        [-0.0456,  1.0275],\n",
            "        [ 2.1579,  0.6827]])\n",
            "tensor([[-0.0456,  1.0275,  3.1760, -0.1297]])\n"
          ],
          "name": "stdout"
        }
      ]
    },
    {
      "cell_type": "code",
      "metadata": {
        "id": "QKDxwBhvmhbj"
      },
      "source": [
        ""
      ],
      "execution_count": null,
      "outputs": []
    }
  ]
}